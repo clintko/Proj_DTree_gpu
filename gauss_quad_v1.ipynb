{
 "cells": [
  {
   "cell_type": "markdown",
   "metadata": {},
   "source": [
    "https://www.youtube.com/watch?v=4grhQ5Y_MWo"
   ]
  },
  {
   "cell_type": "code",
   "execution_count": 1,
   "metadata": {},
   "outputs": [
    {
     "data": {
      "text/plain": [
       "1.0*x**3 + 1.0*x"
      ]
     },
     "execution_count": 1,
     "metadata": {},
     "output_type": "execute_result"
    }
   ],
   "source": [
    "import sympy as sp\n",
    "x = sp.Symbol('x')\n",
    "sp.integrate(3.0 * x**2 + 1, x)"
   ]
  },
  {
   "cell_type": "code",
   "execution_count": 2,
   "metadata": {},
   "outputs": [],
   "source": [
    "from scipy.integrate import quad"
   ]
  },
  {
   "cell_type": "code",
   "execution_count": 5,
   "metadata": {},
   "outputs": [
    {
     "data": {
      "text/plain": [
       "10.000000000000002"
      ]
     },
     "execution_count": 5,
     "metadata": {},
     "output_type": "execute_result"
    }
   ],
   "source": [
    "fun = lambda x: 3.0 * x**2 + 1\n",
    "\n",
    "# integral and estimate error\n",
    "ing, err = quad(fun, 0, 2)\n",
    "ing"
   ]
  },
  {
   "cell_type": "markdown",
   "metadata": {},
   "source": [
    "integral and estimate error"
   ]
  },
  {
   "cell_type": "code",
   "execution_count": 31,
   "metadata": {},
   "outputs": [],
   "source": [
    "import numpy as np"
   ]
  },
  {
   "cell_type": "code",
   "execution_count": 44,
   "metadata": {},
   "outputs": [],
   "source": [
    "# Recursive generation of the Legendre polynomial of order n\n",
    "def Legendre(n,x):\n",
    "    x=np.array(x)\n",
    "    if (n==0):\n",
    "        return x*0+1.0\n",
    "    elif (n==1):\n",
    "        return x\n",
    "    else:\n",
    "        return ((2.0*n-1.0)*x*Legendre(n-1,x)-(n-1)*Legendre(n-2,x))/n"
   ]
  },
  {
   "cell_type": "code",
   "execution_count": 45,
   "metadata": {},
   "outputs": [],
   "source": [
    "# Derivative of the Legendre polynomials\n",
    "def DLegendre(n,x):\n",
    "    x=np.array(x)\n",
    "    if (n==0):\n",
    "        return x*0\n",
    "    elif (n==1):\n",
    "        return x*0+1.0\n",
    "    else:\n",
    "        return (n/(x**2-1.0))*(x*Legendre(n,x)-Legendre(n-1,x))"
   ]
  },
  {
   "cell_type": "code",
   "execution_count": 46,
   "metadata": {},
   "outputs": [
    {
     "data": {
      "text/plain": [
       "3.141592653589793"
      ]
     },
     "execution_count": 46,
     "metadata": {},
     "output_type": "execute_result"
    }
   ],
   "source": [
    "np.pi"
   ]
  },
  {
   "cell_type": "code",
   "execution_count": 52,
   "metadata": {},
   "outputs": [],
   "source": [
    "# Roots of the polynomial obtained using Newton-Raphson method\n",
    "def LegendreRoots(polyorder,tolerance=1e-20):\n",
    "    if polyorder<2:\n",
    "        err=1 # bad polyorder no roots can be found\n",
    "    else:\n",
    "        roots=[]\n",
    "        # The polynomials are alternately even and odd functions. So we evaluate only half the number of roots. \n",
    "        for i in range(1, int(polyorder)//2 +1):\n",
    "            x=np.cos(np.pi*(i-0.25)/(polyorder+0.5))\n",
    "            error=10*tolerance\n",
    "            iters=0\n",
    "            while (error>tolerance) and (iters<1000):\n",
    "                dx=-Legendre(polyorder,x)/DLegendre(polyorder,x)\n",
    "                x=x+dx\n",
    "                iters=iters+1\n",
    "                error=abs(dx)\n",
    "            roots.append(x)\n",
    "        # Use symmetry to get the other roots\n",
    "        roots=np.array(roots)\n",
    "        if polyorder%2==0:\n",
    "            roots=np.concatenate( (-1.0*roots, roots[::-1]) )\n",
    "        else:\n",
    "            roots=np.concatenate( (-1.0*roots, [0.0], roots[::-1]) )\n",
    "        err=0 # successfully determined roots\n",
    "    return [roots, err]"
   ]
  },
  {
   "cell_type": "code",
   "execution_count": 53,
   "metadata": {},
   "outputs": [],
   "source": [
    "# Weight coefficients\n",
    "def GaussLegendreWeights(polyorder):\n",
    "    W=[]\n",
    "    [xis,err]=LegendreRoots(polyorder)\n",
    "    if err==0:\n",
    "        W=2.0/( (1.0-xis**2)*(DLegendre(polyorder,xis)**2) )\n",
    "        err=0\n",
    "    else:\n",
    "        err=1 # could not determine roots - so no weights\n",
    "    return [W, xis, err]"
   ]
  },
  {
   "cell_type": "code",
   "execution_count": 54,
   "metadata": {},
   "outputs": [],
   "source": [
    "# The integral value \n",
    "# func : the integrand\n",
    "# a, b : lower and upper limits of the integral\n",
    "# polyorder : order of the Legendre polynomial to be used\n",
    "#\n",
    "def GaussLegendreQuadrature(func, polyorder, a, b):\n",
    "    [Ws,xs, err]= GaussLegendreWeights(polyorder)\n",
    "    if err==0:\n",
    "        ans=(b-a)*0.5*sum( Ws*func( (b-a)*0.5*xs+ (b+a)*0.5 ) )\n",
    "    else: \n",
    "        # (in case of error)\n",
    "        err=1\n",
    "        ans=None\n",
    "    return [ans,err]"
   ]
  },
  {
   "cell_type": "code",
   "execution_count": 57,
   "metadata": {},
   "outputs": [],
   "source": [
    "# The integrand - change as required\n",
    "def func(x):\n",
    "    return np.exp(x)"
   ]
  },
  {
   "cell_type": "code",
   "execution_count": 58,
   "metadata": {},
   "outputs": [
    {
     "name": "stdout",
     "output_type": "stream",
     "text": [
      "Order    :  5\n",
      "Roots    :  [-0.90617985 -0.53846931  0.          0.53846931  0.90617985]\n",
      "Weights  :  [0.23692689 0.47862867 0.56888889 0.47862867 0.23692689]\n",
      "Integral :  20.035577718385564\n"
     ]
    }
   ],
   "source": [
    "order=5\n",
    "[Ws,xs,err]=GaussLegendreWeights(order)\n",
    "if err==0:\n",
    "    print(\"Order    : \", order)\n",
    "    print(\"Roots    : \", xs)\n",
    "    print(\"Weights  : \", Ws)\n",
    "else:\n",
    "    print(\"Roots/Weights evaluation failed\")\n",
    "\n",
    "# Integrating the function\n",
    "[ans,err]=GaussLegendreQuadrature(func , order, -3,3)\n",
    "if err==0:\n",
    "    print(\"Integral : \", ans)\n",
    "else:\n",
    "    print(\"Integral evaluation failed\")"
   ]
  },
  {
   "cell_type": "code",
   "execution_count": null,
   "metadata": {},
   "outputs": [],
   "source": []
  },
  {
   "cell_type": "code",
   "execution_count": null,
   "metadata": {},
   "outputs": [],
   "source": []
  }
 ],
 "metadata": {
  "kernelspec": {
   "display_name": "Python 3",
   "language": "python",
   "name": "python3"
  },
  "language_info": {
   "codemirror_mode": {
    "name": "ipython",
    "version": 3
   },
   "file_extension": ".py",
   "mimetype": "text/x-python",
   "name": "python",
   "nbconvert_exporter": "python",
   "pygments_lexer": "ipython3",
   "version": "3.7.3"
  }
 },
 "nbformat": 4,
 "nbformat_minor": 2
}
