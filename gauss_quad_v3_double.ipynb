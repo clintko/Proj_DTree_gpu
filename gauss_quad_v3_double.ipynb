{
 "cells": [
  {
   "cell_type": "code",
   "execution_count": 41,
   "metadata": {},
   "outputs": [],
   "source": [
    "import numpy as np\n",
    "import matplotlib.pyplot as plt\n",
    "\n",
    "from numpy.polynomial import legendre as legendre_np\n",
    "from scipy.special    import legendre as legendre_sc\n",
    "from scipy.integrate  import quad, dblquad\n",
    "from scipy            import linalg   as la\n",
    "\n",
    "import cupy as cp\n",
    "\n",
    "# print(plt.style.available)\n",
    "plt.style.use(\"seaborn-whitegrid\")"
   ]
  },
  {
   "cell_type": "code",
   "execution_count": null,
   "metadata": {},
   "outputs": [],
   "source": []
  },
  {
   "cell_type": "code",
   "execution_count": 5,
   "metadata": {},
   "outputs": [
    {
     "name": "stdout",
     "output_type": "stream",
     "text": [
      "[[-0.90617985 -0.53846931  0.          0.53846931  0.90617985]\n",
      " [ 0.23692689  0.47862867  0.56888889  0.47862867  0.23692689]]\n"
     ]
    }
   ],
   "source": [
    "### degree\n",
    "order = 5\n",
    "\n",
    "### get roots\n",
    "roots, weights = legendre_np.leggauss(order)\n",
    "\n",
    "print(np.r_[[roots, weights]])"
   ]
  },
  {
   "cell_type": "code",
   "execution_count": 6,
   "metadata": {},
   "outputs": [
    {
     "data": {
      "text/plain": [
       "4.000000000000002"
      ]
     },
     "execution_count": 6,
     "metadata": {},
     "output_type": "execute_result"
    }
   ],
   "source": [
    "fun = lambda x: 3.0 * x**2 + 1\n",
    "np.sum([w * fun(x) for w, x in zip(weights, roots)])"
   ]
  },
  {
   "cell_type": "code",
   "execution_count": 7,
   "metadata": {},
   "outputs": [
    {
     "name": "stdout",
     "output_type": "stream",
     "text": [
      "3.999999999999999\n"
     ]
    }
   ],
   "source": [
    "# integral and estimate error\n",
    "a, b     = -1, 1\n",
    "ing, err = quad(fun, a, b)\n",
    "print(ing)"
   ]
  },
  {
   "cell_type": "code",
   "execution_count": null,
   "metadata": {},
   "outputs": [],
   "source": []
  },
  {
   "cell_type": "code",
   "execution_count": 9,
   "metadata": {},
   "outputs": [
    {
     "name": "stdout",
     "output_type": "stream",
     "text": [
      "2\n",
      "4\n"
     ]
    }
   ],
   "source": [
    "fun = lambda x, y: x * y\n",
    "print(fun(1, 2))\n",
    "print(fun(2, 2))"
   ]
  },
  {
   "cell_type": "code",
   "execution_count": 11,
   "metadata": {},
   "outputs": [
    {
     "name": "stdout",
     "output_type": "stream",
     "text": [
      "6.938893903907228e-18\n"
     ]
    }
   ],
   "source": [
    "res = 0\n",
    "for wx, x in zip(weights, roots):\n",
    "    for wy, y in zip(weights, roots):\n",
    "        res += (wx * wy * fun(x, y))\n",
    "print(res)"
   ]
  },
  {
   "cell_type": "code",
   "execution_count": 20,
   "metadata": {},
   "outputs": [
    {
     "name": "stdout",
     "output_type": "stream",
     "text": [
      "0.4444444444444449\n"
     ]
    }
   ],
   "source": [
    "fun = lambda x, y: x**2 * y**2\n",
    "res = 0\n",
    "\n",
    "for wx, x in zip(weights, roots):\n",
    "    for wy, y in zip(weights, roots):\n",
    "        res += (wx * wy * fun(x, y))\n",
    "        \n",
    "print(res)"
   ]
  },
  {
   "cell_type": "code",
   "execution_count": 21,
   "metadata": {},
   "outputs": [
    {
     "name": "stdout",
     "output_type": "stream",
     "text": [
      "0.44444444444444436\n"
     ]
    }
   ],
   "source": [
    "ing, err = dblquad(fun, -1, 1, lambda x: -1, lambda x: 1)\n",
    "print(ing)"
   ]
  },
  {
   "cell_type": "code",
   "execution_count": 13,
   "metadata": {},
   "outputs": [
    {
     "data": {
      "text/plain": [
       "0.4444444444444444"
      ]
     },
     "execution_count": 13,
     "metadata": {},
     "output_type": "execute_result"
    }
   ],
   "source": [
    "4/9"
   ]
  },
  {
   "cell_type": "code",
   "execution_count": 15,
   "metadata": {},
   "outputs": [
    {
     "name": "stdout",
     "output_type": "stream",
     "text": [
      "4.22900350120645\n"
     ]
    }
   ],
   "source": [
    "fun = lambda x, y: np.exp(x * y)\n",
    "res = 0\n",
    "\n",
    "for wx, x in zip(weights, roots):\n",
    "    for wy, y in zip(weights, roots):\n",
    "        res += (wx * wy * fun(x, y))\n",
    "        \n",
    "print(res)"
   ]
  },
  {
   "cell_type": "code",
   "execution_count": 19,
   "metadata": {},
   "outputs": [
    {
     "name": "stdout",
     "output_type": "stream",
     "text": [
      "4.229003501502914\n"
     ]
    }
   ],
   "source": [
    "ing, err = dblquad(fun, -1, 1, lambda x: -1, lambda x: 1)\n",
    "print(ing)"
   ]
  },
  {
   "cell_type": "code",
   "execution_count": 28,
   "metadata": {},
   "outputs": [],
   "source": [
    "xa, xb = -1, 5\n",
    "ya, yb = -1, 1\n",
    "\n",
    "xh, xc = (xb-xa) / 2, (xb+xa) / 2\n",
    "yh, yc = (yb-ya) / 2, (yb+ya) / 2\n",
    "\n",
    "xnodes = roots * xh + xc\n",
    "ynodes = roots * yh + yc"
   ]
  },
  {
   "cell_type": "code",
   "execution_count": 29,
   "metadata": {},
   "outputs": [
    {
     "name": "stdout",
     "output_type": "stream",
     "text": [
      "42.29530901039896\n"
     ]
    }
   ],
   "source": [
    "fun = lambda x, y: np.exp(x * y)\n",
    "res = 0\n",
    "\n",
    "for wx, x in zip(weights, xnodes):\n",
    "    for wy, y in zip(weights, ynodes):\n",
    "        res += (wx * wy * fun(x, y))\n",
    "\n",
    "res = res * xh * yh        \n",
    "print(res)"
   ]
  },
  {
   "cell_type": "code",
   "execution_count": 30,
   "metadata": {},
   "outputs": [
    {
     "name": "stdout",
     "output_type": "stream",
     "text": [
      "42.30092540214591\n"
     ]
    }
   ],
   "source": [
    "ing, err = dblquad(fun, xa, xb, lambda x: ya, lambda x: yb)\n",
    "print(ing)"
   ]
  },
  {
   "cell_type": "code",
   "execution_count": null,
   "metadata": {},
   "outputs": [],
   "source": []
  },
  {
   "cell_type": "code",
   "execution_count": 113,
   "metadata": {},
   "outputs": [],
   "source": [
    "xa, xb = -1, 5\n",
    "ya, yb = -1, 1\n",
    "\n",
    "xh, xc = (xb-xa) / 2, (xb+xa) / 2\n",
    "yh, yc = (yb-ya) / 2, (yb+ya) / 2\n",
    "\n",
    "xnodes = roots * xh + xc\n",
    "ynodes = roots * yh + yc\n",
    "\n",
    "vfun = np.vectorize(fun)"
   ]
  },
  {
   "cell_type": "code",
   "execution_count": 114,
   "metadata": {},
   "outputs": [
    {
     "name": "stdout",
     "output_type": "stream",
     "text": [
      "42.29530901039896\n",
      "CPU times: user 1.15 ms, sys: 466 µs, total: 1.62 ms\n",
      "Wall time: 1.26 ms\n"
     ]
    }
   ],
   "source": [
    "%%time\n",
    "X, Y = np.meshgrid(xnodes, ynodes)\n",
    "\n",
    "W1, W2 = np.meshgrid(weights, weights)\n",
    "W      = np.multiply(W1, W2)\n",
    "\n",
    "ing = np.multiply(vfun(X, Y), W).sum() * xh * yh\n",
    "print(ing)"
   ]
  },
  {
   "cell_type": "code",
   "execution_count": null,
   "metadata": {},
   "outputs": [],
   "source": []
  },
  {
   "cell_type": "code",
   "execution_count": 110,
   "metadata": {},
   "outputs": [],
   "source": [
    "xa, xb = -1, 5\n",
    "ya, yb = -1, 1\n",
    "\n",
    "xh, xc = (xb-xa) / 2, (xb+xa) / 2\n",
    "yh, yc = (yb-ya) / 2, (yb+ya) / 2\n",
    "\n",
    "xnodes = roots * xh + xc\n",
    "ynodes = roots * yh + yc\n",
    "\n",
    "xc = cp.array(xnodes)\n",
    "yc = cp.array(ynodes)\n",
    "wc = cp.array(weights)"
   ]
  },
  {
   "cell_type": "code",
   "execution_count": 111,
   "metadata": {},
   "outputs": [],
   "source": [
    "@cp.fuse()\n",
    "def cfun(x, y):\n",
    "    return cp.exp(x * y)"
   ]
  },
  {
   "cell_type": "code",
   "execution_count": 112,
   "metadata": {},
   "outputs": [
    {
     "name": "stdout",
     "output_type": "stream",
     "text": [
      "42.29530901039896\n",
      "CPU times: user 9 ms, sys: 80 µs, total: 9.08 ms\n",
      "Wall time: 6.85 ms\n"
     ]
    }
   ],
   "source": [
    "%%time\n",
    "X, Y = cp.meshgrid(xc, yc)\n",
    "\n",
    "W1, W2 = cp.meshgrid(wc, wc)\n",
    "W      = cp.multiply(W1, W2)\n",
    "\n",
    "ing = cp.multiply(cfun(X, Y), W).sum() * xh * yh\n",
    "print(ing)"
   ]
  },
  {
   "cell_type": "code",
   "execution_count": null,
   "metadata": {},
   "outputs": [],
   "source": []
  },
  {
   "cell_type": "code",
   "execution_count": 109,
   "metadata": {},
   "outputs": [
    {
     "data": {
      "text/plain": [
       "array([[1.91769903e+00, 7.05739152e-01, 1.63268419e-01, 3.77711460e-02,\n",
       "        1.39002920e-02],\n",
       "       [1.47242616e+00, 8.12945647e-01, 3.40636750e-01, 1.42732046e-01,\n",
       "        7.88042200e-02],\n",
       "       [1.00000000e+00, 1.00000000e+00, 1.00000000e+00, 1.00000000e+00,\n",
       "        1.00000000e+00],\n",
       "       [6.79151204e-01, 1.23009454e+00, 2.93567855e+00, 7.00613514e+00,\n",
       "        1.26896757e+01],\n",
       "       [5.21458259e-01, 1.41695412e+00, 6.12488323e+00, 2.64752359e+01,\n",
       "        7.19409347e+01]])"
      ]
     },
     "execution_count": 109,
     "metadata": {},
     "output_type": "execute_result"
    }
   ],
   "source": [
    "@cp.fuse()\n",
    "def cfun(x, y):\n",
    "    return cp.exp(x * y)\n",
    "\n",
    "cfun(X, Y)"
   ]
  },
  {
   "cell_type": "code",
   "execution_count": 108,
   "metadata": {},
   "outputs": [
    {
     "data": {
      "text/plain": [
       "array([[1.91769903e+00, 7.05739152e-01, 1.63268419e-01, 3.77711460e-02,\n",
       "        1.39002920e-02],\n",
       "       [1.47242616e+00, 8.12945647e-01, 3.40636750e-01, 1.42732046e-01,\n",
       "        7.88042200e-02],\n",
       "       [1.00000000e+00, 1.00000000e+00, 1.00000000e+00, 1.00000000e+00,\n",
       "        1.00000000e+00],\n",
       "       [6.79151204e-01, 1.23009454e+00, 2.93567855e+00, 7.00613514e+00,\n",
       "        1.26896757e+01],\n",
       "       [5.21458259e-01, 1.41695412e+00, 6.12488323e+00, 2.64752359e+01,\n",
       "        7.19409347e+01]])"
      ]
     },
     "execution_count": 108,
     "metadata": {},
     "output_type": "execute_result"
    }
   ],
   "source": [
    "cfun = cp.ElementwiseKernel(\n",
    "    'float64 x, float64 y',\n",
    "    'float64 z',\n",
    "    'z = exp(x * y)',\n",
    "    'cfun')\n",
    "\n",
    "cfun(X, Y)"
   ]
  },
  {
   "cell_type": "code",
   "execution_count": null,
   "metadata": {},
   "outputs": [],
   "source": []
  }
 ],
 "metadata": {
  "kernelspec": {
   "display_name": "Python 3",
   "language": "python",
   "name": "python3"
  },
  "language_info": {
   "codemirror_mode": {
    "name": "ipython",
    "version": 3
   },
   "file_extension": ".py",
   "mimetype": "text/x-python",
   "name": "python",
   "nbconvert_exporter": "python",
   "pygments_lexer": "ipython3",
   "version": "3.7.3"
  }
 },
 "nbformat": 4,
 "nbformat_minor": 2
}
